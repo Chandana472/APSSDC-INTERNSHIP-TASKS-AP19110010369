{
 "cells": [
  {
   "cell_type": "code",
   "execution_count": 16,
   "metadata": {},
   "outputs": [
    {
     "name": "stdout",
     "output_type": "stream",
     "text": [
      "5841\n",
      "1234\n"
     ]
    }
   ],
   "source": [
    "import re\n",
    "list1 = ['5841', '987654321', '453267', '1234','675',' 8797']\n",
    "for num in list1:\n",
    "    if(re.search('^\\d{4}$',num)):\n",
    "        print(num)\n",
    "    "
   ]
  },
  {
   "cell_type": "code",
   "execution_count": 20,
   "metadata": {},
   "outputs": [
    {
     "name": "stdout",
     "output_type": "stream",
     "text": [
      "The valid phone numbers are:\n",
      "9876543210\n",
      "7890123456\n"
     ]
    }
   ],
   "source": [
    "import re\n",
    "ph_list = ['9876543210',' 8123456789', '7890123456','789654','1234567890']\n",
    "print(\"The valid phone numbers are:\")\n",
    "for phn in ph_list:\n",
    "    if(re.search('^[6-9]{1}[0-9]{9}$',phn)):\n",
    "        print(phn)"
   ]
  },
  {
   "cell_type": "code",
   "execution_count": null,
   "metadata": {},
   "outputs": [],
   "source": []
  }
 ],
 "metadata": {
  "kernelspec": {
   "display_name": "Python 3",
   "language": "python",
   "name": "python3"
  },
  "language_info": {
   "codemirror_mode": {
    "name": "ipython",
    "version": 3
   },
   "file_extension": ".py",
   "mimetype": "text/x-python",
   "name": "python",
   "nbconvert_exporter": "python",
   "pygments_lexer": "ipython3",
   "version": "3.7.4"
  }
 },
 "nbformat": 4,
 "nbformat_minor": 2
}
