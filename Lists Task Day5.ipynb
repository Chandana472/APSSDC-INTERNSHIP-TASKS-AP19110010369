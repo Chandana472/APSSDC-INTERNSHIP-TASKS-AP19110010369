{
 "cells": [
  {
   "cell_type": "markdown",
   "metadata": {},
   "source": [
    "#Day 5 task                                           AP19110010369-Chandana Kovelamudi"
   ]
  },
  {
   "cell_type": "markdown",
   "metadata": {},
   "source": [
    "Write a Python function that takes two lists and returns True if they have at least one common member."
   ]
  },
  {
   "cell_type": "code",
   "execution_count": 1,
   "metadata": {},
   "outputs": [
    {
     "name": "stdout",
     "output_type": "stream",
     "text": [
      "Enter number of elements to be entered in the list:3\n",
      "1\n",
      "2\n",
      "10\n",
      "List1 is [1, 2, 10]\n",
      "Enter number of elements to be entered in the second list:4\n",
      "1\n",
      "2\n",
      "5\n",
      "11\n",
      "List2 is [1, 2, 5, 11]\n",
      "True\n"
     ]
    }
   ],
   "source": [
    "li=[]\n",
    "n=int(input('Enter number of elements to be entered in the list:'))\n",
    "for i in range(0,n):\n",
    "    item=int(input())\n",
    "    li.append(item)\n",
    "print(\"List1 is\",li) \n",
    "\n",
    "li2=[]\n",
    "n1=int(input('Enter number of elements to be entered in the second list:'))\n",
    "for j in range(0,n1):\n",
    "    items=int(input())\n",
    "    li2.append(items)\n",
    "print(\"List2 is\",li2)\n",
    "result = 0\n",
    "def find_common(li, li2):\n",
    "     for x in li:\n",
    "         for y in li2:\n",
    "             if x == y:\n",
    "                 result = True\n",
    "                 return result\n",
    "             else:\n",
    "               result = False\n",
    "               return result\n",
    "print(find_common(li, li2))"
   ]
  },
  {
   "cell_type": "code",
   "execution_count": null,
   "metadata": {},
   "outputs": [],
   "source": []
  }
 ],
 "metadata": {
  "kernelspec": {
   "display_name": "Python 3",
   "language": "python",
   "name": "python3"
  },
  "language_info": {
   "codemirror_mode": {
    "name": "ipython",
    "version": 3
   },
   "file_extension": ".py",
   "mimetype": "text/x-python",
   "name": "python",
   "nbconvert_exporter": "python",
   "pygments_lexer": "ipython3",
   "version": "3.7.4"
  }
 },
 "nbformat": 4,
 "nbformat_minor": 2
}
