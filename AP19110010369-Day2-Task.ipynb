{
 "cells": [
  {
   "cell_type": "markdown",
   "metadata": {},
   "source": [
    "    \n",
    "Chandana Kovelamudi-AP19110010369-CSE\n",
    "\n",
    "#######Task:     \n",
    "Write a program to check wheather the user eligible for vote or not\n",
    "\n",
    "Check the given number is positive or negative\n",
    "\n",
    "check the given number is even or odd if it's even check which is divisible by 4 or not\n",
    "\n",
    "write a program to print student grade based on persentage like Distinction,pass or fail\n",
    "\n",
    "Check the given year is Leap or not\n"
   ]
  },
  {
   "cell_type": "code",
   "execution_count": 1,
   "metadata": {},
   "outputs": [
    {
     "name": "stdout",
     "output_type": "stream",
     "text": [
      "Enter your age:23\n",
      "Person is eleigible to vote\n"
     ]
    }
   ],
   "source": [
    "Age=int(input('Enter your age:'))\n",
    "if Age>=18:\n",
    "    print(\"Person is eleigible to vote\")\n",
    "else:\n",
    "    print(\"Person is not eligible to vote\")"
   ]
  },
  {
   "cell_type": "code",
   "execution_count": 2,
   "metadata": {},
   "outputs": [
    {
     "name": "stdout",
     "output_type": "stream",
     "text": [
      "Enter a number:45\n",
      "45 is positive\n"
     ]
    }
   ],
   "source": [
    "n=int(input('Enter a number:'))\n",
    "if n>0:\n",
    "    print(n,'is positive')\n",
    "elif n==0:\n",
    "    print(n,'is nonnegative')\n",
    "else:\n",
    "        print(n,\"is negative\")"
   ]
  },
  {
   "cell_type": "code",
   "execution_count": 3,
   "metadata": {},
   "outputs": [
    {
     "name": "stdout",
     "output_type": "stream",
     "text": [
      "Enter a number: 44\n",
      "44 is even\n",
      "44 is even and divisible by 4\n"
     ]
    }
   ],
   "source": [
    "num = int(input(\"Enter a number: \"))  \n",
    "if(num%2)==0:\n",
    "    print(num,\"is even\")\n",
    "    if(num%4)==0:\n",
    "        print(num,\"is even and divisible by 4\")\n",
    "    else:\n",
    "        print(num,\"is not divisible by 4\")\n",
    "else:\n",
    "    print(num,\"is odd number\")"
   ]
  },
  {
   "cell_type": "code",
   "execution_count": 4,
   "metadata": {},
   "outputs": [
    {
     "name": "stdout",
     "output_type": "stream",
     "text": [
      "Enter marks:78\n",
      "C\n"
     ]
    }
   ],
   "source": [
    "marks=float(input(\"Enter marks:\"))\n",
    "if(marks>90 and marks<100):\n",
    "    print(\"A\")\n",
    "elif(marks>80 and marks<90):\n",
    "    print(\"B\")\n",
    "elif(marks>70 and marks<80):\n",
    "    print(\"C\")\n",
    "elif(marks>60 and marks<70):\n",
    "    print(\"D\")\n",
    "elif(marks>50 and marks<60):\n",
    "    print(\"E\")\n",
    "else:\n",
    "    print(\"Fail\")"
   ]
  },
  {
   "cell_type": "code",
   "execution_count": 8,
   "metadata": {},
   "outputs": [
    {
     "name": "stdout",
     "output_type": "stream",
     "text": [
      "Enter a year:1998\n",
      "1998 is not a leap year\n"
     ]
    }
   ],
   "source": [
    "year=(int(input(\"Enter a year:\")))\n",
    "if (year%4)==0:\n",
    "        if (year%100)==0:\n",
    "            if (year%400)==0:\n",
    "                print(year,\"is a leap year\")\n",
    "            else:\n",
    "                print(year,\"is not a leap year\")\n",
    "        else:\n",
    "            print(year,\"is not a leap year\")\n",
    "else:\n",
    "    print(year,\"is not a leap year\")"
   ]
  },
  {
   "cell_type": "code",
   "execution_count": null,
   "metadata": {},
   "outputs": [],
   "source": []
  }
 ],
 "metadata": {
  "kernelspec": {
   "display_name": "Python 3",
   "language": "python",
   "name": "python3"
  },
  "language_info": {
   "codemirror_mode": {
    "name": "ipython",
    "version": 3
   },
   "file_extension": ".py",
   "mimetype": "text/x-python",
   "name": "python",
   "nbconvert_exporter": "python",
   "pygments_lexer": "ipython3",
   "version": "3.7.4"
  }
 },
 "nbformat": 4,
 "nbformat_minor": 2
}
