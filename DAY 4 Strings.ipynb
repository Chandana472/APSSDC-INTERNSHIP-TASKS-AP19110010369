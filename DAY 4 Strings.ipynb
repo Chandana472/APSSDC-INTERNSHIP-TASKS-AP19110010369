{
 "cells": [
  {
   "cell_type": "markdown",
   "metadata": {},
   "source": [
    "AP19110010369                                                                              CHANDANA \n",
    "STRINGS\n",
    "##TASK"
   ]
  },
  {
   "cell_type": "code",
   "execution_count": 1,
   "metadata": {},
   "outputs": [
    {
     "name": "stdout",
     "output_type": "stream",
     "text": [
      "Enter any word:Julia Roberts\n",
      "Length of string is 13 it is odd\n",
      "R\n"
     ]
    }
   ],
   "source": [
    "A=input('Enter any word:')\n",
    "b=len(A)\n",
    "if b%2==0:\n",
    "    print('Length of string is',b,'it is even')\n",
    "    print('The middle letters of string are:',A[b//2],A[(b-1)//2])\n",
    "else:\n",
    "    print('Length of string is',b,'it is odd')\n",
    "    print(A[b//2])\n",
    "    "
   ]
  },
  {
   "cell_type": "code",
   "execution_count": 2,
   "metadata": {},
   "outputs": [
    {
     "name": "stdout",
     "output_type": "stream",
     "text": [
      "Enter any word:Tom Cruise\n",
      "Length of string is 10 it is even\n",
      "The middle letters of string are: r C\n"
     ]
    }
   ],
   "source": [
    "A=input('Enter any word:')\n",
    "b=len(A)\n",
    "if b%2==0:\n",
    "    print('Length of string is',b,'it is even')\n",
    "    print('The middle letters of string are:',A[b//2],A[(b-1)//2])\n",
    "else:\n",
    "    print('Length of string is',b,'it is odd')\n",
    "    print(A[b//2])\n",
    "    "
   ]
  },
  {
   "cell_type": "code",
   "execution_count": null,
   "metadata": {},
   "outputs": [],
   "source": []
  }
 ],
 "metadata": {
  "kernelspec": {
   "display_name": "Python 3",
   "language": "python",
   "name": "python3"
  },
  "language_info": {
   "codemirror_mode": {
    "name": "ipython",
    "version": 3
   },
   "file_extension": ".py",
   "mimetype": "text/x-python",
   "name": "python",
   "nbconvert_exporter": "python",
   "pygments_lexer": "ipython3",
   "version": "3.7.4"
  }
 },
 "nbformat": 4,
 "nbformat_minor": 2
}
