{
 "cells": [
  {
   "cell_type": "markdown",
   "metadata": {},
   "source": [
    "AP19110010369\n",
    "CSE-C\n",
    "Day 10 task:"
   ]
  },
  {
   "cell_type": "code",
   "execution_count": null,
   "metadata": {},
   "outputs": [],
   "source": [
    "\n",
    "def leap(year):\n",
    "    if(year%400==0):\n",
    "        return True\n",
    "    elif(year%100==0):\n",
    "        return False\n",
    "    elif(year%4==0):\n",
    "        return True\n",
    "list=[year for year in range(1800,2031) if(leap(year))] \n",
    "print(list)"
   ]
  },
  {
   "cell_type": "code",
   "execution_count": null,
   "metadata": {},
   "outputs": [],
   "source": []
  }
 ],
 "metadata": {
  "kernelspec": {
   "display_name": "Python 3",
   "language": "python",
   "name": "python3"
  },
  "language_info": {
   "codemirror_mode": {
    "name": "ipython",
    "version": 3
   },
   "file_extension": ".py",
   "mimetype": "text/x-python",
   "name": "python",
   "nbconvert_exporter": "python",
   "pygments_lexer": "ipython3",
   "version": "3.7.4"
  }
 },
 "nbformat": 4,
 "nbformat_minor": 2
}
